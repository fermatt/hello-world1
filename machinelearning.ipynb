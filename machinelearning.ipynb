{
  "nbformat": 4,
  "nbformat_minor": 0,
  "metadata": {
    "colab": {
      "provenance": [],
      "authorship_tag": "ABX9TyNr732yaCS9CUJELZQpW3qI",
      "include_colab_link": true
    },
    "kernelspec": {
      "name": "python3",
      "display_name": "Python 3"
    },
    "language_info": {
      "name": "python"
    }
  },
  "cells": [
    {
      "cell_type": "markdown",
      "metadata": {
        "id": "view-in-github",
        "colab_type": "text"
      },
      "source": [
        "<a href=\"https://colab.research.google.com/github/fermatt/hello-world1/blob/master/machinelearning.ipynb\" target=\"_parent\"><img src=\"https://colab.research.google.com/assets/colab-badge.svg\" alt=\"Open In Colab\"/></a>"
      ]
    },
    {
      "cell_type": "code",
      "execution_count": 1,
      "metadata": {
        "colab": {
          "base_uri": "https://localhost:8080/"
        },
        "id": "_TPICx4OuID_",
        "outputId": "297c56ba-78a8-4055-9165-ff9945091e20"
      },
      "outputs": [
        {
          "output_type": "stream",
          "name": "stdout",
          "text": [
            "Hola Humberto\n"
          ]
        }
      ],
      "source": [
        "print(\"Hola Humberto\")"
      ]
    },
    {
      "cell_type": "code",
      "source": [
        "print(\"Machine Learning\")\n",
        "print(\"Algebra Lineal\")\n",
        "print(\"Inteligencia Artificial\")\n",
        "print(\"Aprendizaje profundo\")"
      ],
      "metadata": {
        "id": "Y2ijL1Imvu1f"
      },
      "execution_count": null,
      "outputs": []
    }
  ]
}